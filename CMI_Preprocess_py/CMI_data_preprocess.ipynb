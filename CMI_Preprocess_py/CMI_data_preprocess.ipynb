{
 "cells": [
  {
   "cell_type": "code",
   "execution_count": 108,
   "id": "24ce8dc4",
   "metadata": {},
   "outputs": [],
   "source": [
    "import pandas as pd\n",
    "import numpy as np\n",
    "import glob\n",
    "import re\n",
    "import datetime"
   ]
  },
  {
   "cell_type": "code",
   "execution_count": 3,
   "id": "9e385f63",
   "metadata": {},
   "outputs": [],
   "source": [
    "def process_left(data):\n",
    "    data[\"flag\"] = np.where(data[1].apply(lambda x: \".\" in x), 1, 0)\n",
    "    df1 = data[data[\"flag\"] == 1]\n",
    "    df2 = data[data[\"flag\"] == 0]\n",
    "    new_col = df2.iloc[:,0] + '0' + df2.iloc[:,1]\n",
    "    df1 = df1[0]\n",
    "    df_new = pd.concat([df1, new_col]).sort_index()\n",
    "    return df_new"
   ]
  },
  {
   "cell_type": "code",
   "execution_count": 4,
   "id": "1d97cc87",
   "metadata": {},
   "outputs": [],
   "source": [
    "def process_left_73_96(data):\n",
    "    data[\"flag\"] = np.where(data[1].apply(lambda x: len(x) > 8), 0, 1)\n",
    "    df1 = data[data[\"flag\"] == 1]\n",
    "    df2 = data[data[\"flag\"] == 0]\n",
    "    left_1 = df2.iloc[:,1].apply(lambda x:x[:1]).tolist()\n",
    "    new_col = df2.iloc[:,0] + '0' + left_1\n",
    "    df1 = df1[0]\n",
    "    df_new = pd.concat([df1, new_col]).sort_index()\n",
    "    return df_new"
   ]
  },
  {
   "cell_type": "code",
   "execution_count": 5,
   "id": "7db1b5bf",
   "metadata": {},
   "outputs": [],
   "source": [
    "def extractLast4(x):\n",
    "    elements = re.split('\\s+', x.strip())\n",
    "    return \",\".join(elements[-4:])"
   ]
  },
  {
   "cell_type": "code",
   "execution_count": 6,
   "id": "e66be56e",
   "metadata": {},
   "outputs": [],
   "source": [
    "def preprocessFile(path, types):\n",
    "    list1 = []\n",
    "    list2 = []\n",
    "    with open(path, 'r') as f:\n",
    "        for line in f:\n",
    "            line1 = line.strip().split(\".  \")\n",
    "            list1.append(line1[0])\n",
    "            list2.append(line1[-1])\n",
    "    list2 = [extractLast4(x) for x in list2]\n",
    "    list1 = pd.Series(list1)\n",
    "    list2 = pd.Series(list2)\n",
    "    data_right = pd.DataFrame(list2.str.split(',', expand = True))\n",
    "    data_right.columns = [\"CMI\",\"PY\",\"GM\",\"CC\"]\n",
    "    data_right = data_right.drop([\"PY\",\"GM\",\"CC\"], axis = 1) \n",
    "    \n",
    "    if types == 1:\n",
    "        data_left = pd.DataFrame(list1.str.split('\\s+', n = 1, expand = True))\n",
    "        data_left = pd.DataFrame(process_left_73_96(data_left))\n",
    "    if types == 2:\n",
    "        data_left = pd.DataFrame(list1.str.split('\\s+', n = 2, expand = True))\n",
    "        data_left = pd.DataFrame(process_left(data_left))\n",
    "    data_left.columns = [\"id\"]\n",
    "    res = data_left.merge(data_right, how='left', left_index = True, right_index=True)\n",
    "    return res"
   ]
  },
  {
   "cell_type": "code",
   "execution_count": 8,
   "id": "9e61f9a0",
   "metadata": {},
   "outputs": [],
   "source": [
    "res = pd.DataFrame()\n",
    "for filepath in glob.iglob(r'C:/Users/Chi Zhang/Desktop/CMI/Data/palmer9[789]*.txt'):\n",
    "    res = pd.concat([res, preprocessFile(filepath, 2)])\n",
    "for filepath in glob.iglob(r'C:/Users/Chi Zhang/Desktop/CMI/Data/palmer[01]*.txt'):\n",
    "    res = pd.concat([res, preprocessFile(filepath, 2)])    \n",
    "for filepath in glob.iglob(r'C:/Users/Chi Zhang/Desktop/CMI/Data/palmer[78]*.txt'):\n",
    "    res = pd.concat([res, preprocessFile(filepath, 1)])   \n",
    "for filepath in glob.iglob(r'C:/Users/Chi Zhang/Desktop/CMI/Data/palmer9[0123456]*.txt'):\n",
    "    res = pd.concat([res, preprocessFile(filepath, 1)])     "
   ]
  },
  {
   "cell_type": "code",
   "execution_count": 9,
   "id": "85707e99",
   "metadata": {},
   "outputs": [],
   "source": [
    "res['len'] = res['id'].apply(len)\n",
    "res = res[res['len'] <= 10].drop('len', axis = 1)"
   ]
  },
  {
   "cell_type": "code",
   "execution_count": 11,
   "id": "869421ef",
   "metadata": {},
   "outputs": [],
   "source": [
    "res.to_csv(\"CMI_73_18.csv\", index=False)"
   ]
  },
  {
   "cell_type": "code",
   "execution_count": 165,
   "id": "6b5fe330",
   "metadata": {},
   "outputs": [],
   "source": [
    "FL_CMI = res[res['id'].str.match(r'^80')]"
   ]
  },
  {
   "cell_type": "code",
   "execution_count": 166,
   "id": "0ce72c67",
   "metadata": {},
   "outputs": [],
   "source": [
    "#Dic for all loctaions, (807 is manually added)"
   ]
  },
  {
   "cell_type": "code",
   "execution_count": 167,
   "id": "d4ddb6f0",
   "metadata": {},
   "outputs": [],
   "source": [
    "loc_dic = {\n",
    "    \"801\" : \"PENSACOLA REGIONAL AIRPORT\",\n",
    "    \"802\" : \"TALLAHASSEE REGIONAL AIRPORT\",\n",
    "    \"803\" : \"JACKSONVILLE INTERNATIONAL AIRPORT\",\n",
    "    \"804\" : \"ORLANDO INTERNATIONAL AIRPORT\",\n",
    "    \"805\" : \"TAMPA INTERNATIONAL AIRPORT\",\n",
    "    \"806\" : \"MIAMI INTERNATIONAL AIRPORT\",\n",
    "    \"807\" : \"Key West\"\n",
    "}"
   ]
  },
  {
   "cell_type": "code",
   "execution_count": 178,
   "id": "813f0252",
   "metadata": {},
   "outputs": [],
   "source": [
    "FL_CMI['loc_id'] = FL_CMI['id'].apply(lambda x: x[:3]).tolist()\n",
    "FL_CMI['location'] = FL_CMI['loc_id'].apply(lambda x : loc_dic[x])"
   ]
  },
  {
   "cell_type": "code",
   "execution_count": 169,
   "id": "6bf4dbe8",
   "metadata": {},
   "outputs": [],
   "source": [
    "FL_CMI = FL_CMI.drop(['loc_id'], axis = 1)"
   ]
  },
  {
   "cell_type": "code",
   "execution_count": 171,
   "id": "6aa46fd8",
   "metadata": {},
   "outputs": [],
   "source": [
    "FL_CMI['time'] = FL_CMI['id'].apply(lambda x: '19' + x[-4:] if len(x) == 7 else x[-6:]).tolist()"
   ]
  },
  {
   "cell_type": "code",
   "execution_count": 172,
   "id": "e157999e",
   "metadata": {},
   "outputs": [],
   "source": [
    "FL_CMI['more_52'] = FL_CMI['time'].apply(lambda x: 1 if int(x[-2:]) > 52 else 0)\n",
    "FL_CMI = FL_CMI[FL_CMI['more_52'] == 0].drop('more_52', axis = 1)"
   ]
  },
  {
   "cell_type": "code",
   "execution_count": 173,
   "id": "c7300017",
   "metadata": {},
   "outputs": [],
   "source": [
    "FL_CMI['ymd_hms'] = FL_CMI['time'].apply(lambda x: datetime.datetime.strptime(x + '-1', \"%Y%W-%w\"))"
   ]
  },
  {
   "cell_type": "code",
   "execution_count": 174,
   "id": "71f96d97",
   "metadata": {},
   "outputs": [],
   "source": [
    "FL_CMI = FL_CMI.drop(['time'], axis = 1)\n",
    "FL_CMI = FL_CMI.drop(['id'], axis = 1)\n",
    "FL_CMI = FL_CMI[[\"ymd_hms\",\"location\",\"CMI\"]]"
   ]
  },
  {
   "cell_type": "code",
   "execution_count": 177,
   "id": "d0171343",
   "metadata": {},
   "outputs": [],
   "source": [
    "FL_CMI.to_csv(\"FL_CMI_73_18.csv\", index=False)"
   ]
  },
  {
   "cell_type": "code",
   "execution_count": 175,
   "id": "5aa4509d",
   "metadata": {},
   "outputs": [
    {
     "data": {
      "text/html": [
       "<div>\n",
       "<style scoped>\n",
       "    .dataframe tbody tr th:only-of-type {\n",
       "        vertical-align: middle;\n",
       "    }\n",
       "\n",
       "    .dataframe tbody tr th {\n",
       "        vertical-align: top;\n",
       "    }\n",
       "\n",
       "    .dataframe thead th {\n",
       "        text-align: right;\n",
       "    }\n",
       "</style>\n",
       "<table border=\"1\" class=\"dataframe\">\n",
       "  <thead>\n",
       "    <tr style=\"text-align: right;\">\n",
       "      <th></th>\n",
       "      <th>ymd_hms</th>\n",
       "      <th>location</th>\n",
       "      <th>CMI</th>\n",
       "    </tr>\n",
       "  </thead>\n",
       "  <tbody>\n",
       "    <tr>\n",
       "      <th>2132</th>\n",
       "      <td>1997-01-06</td>\n",
       "      <td>PENSACOLA REGIONAL AIRPORT</td>\n",
       "      <td>0.80</td>\n",
       "    </tr>\n",
       "    <tr>\n",
       "      <th>2133</th>\n",
       "      <td>1997-01-13</td>\n",
       "      <td>PENSACOLA REGIONAL AIRPORT</td>\n",
       "      <td>0.47</td>\n",
       "    </tr>\n",
       "    <tr>\n",
       "      <th>2134</th>\n",
       "      <td>1997-01-20</td>\n",
       "      <td>PENSACOLA REGIONAL AIRPORT</td>\n",
       "      <td>0.68</td>\n",
       "    </tr>\n",
       "    <tr>\n",
       "      <th>2135</th>\n",
       "      <td>1997-01-27</td>\n",
       "      <td>PENSACOLA REGIONAL AIRPORT</td>\n",
       "      <td>0.18</td>\n",
       "    </tr>\n",
       "    <tr>\n",
       "      <th>2136</th>\n",
       "      <td>1997-02-03</td>\n",
       "      <td>PENSACOLA REGIONAL AIRPORT</td>\n",
       "      <td>0.00</td>\n",
       "    </tr>\n",
       "    <tr>\n",
       "      <th>...</th>\n",
       "      <td>...</td>\n",
       "      <td>...</td>\n",
       "      <td>...</td>\n",
       "    </tr>\n",
       "    <tr>\n",
       "      <th>2491</th>\n",
       "      <td>1996-11-25</td>\n",
       "      <td>Key West</td>\n",
       "      <td>0.37</td>\n",
       "    </tr>\n",
       "    <tr>\n",
       "      <th>2492</th>\n",
       "      <td>1996-12-02</td>\n",
       "      <td>Key West</td>\n",
       "      <td>0.26</td>\n",
       "    </tr>\n",
       "    <tr>\n",
       "      <th>2493</th>\n",
       "      <td>1996-12-09</td>\n",
       "      <td>Key West</td>\n",
       "      <td>0.23</td>\n",
       "    </tr>\n",
       "    <tr>\n",
       "      <th>2494</th>\n",
       "      <td>1996-12-16</td>\n",
       "      <td>Key West</td>\n",
       "      <td>0.00</td>\n",
       "    </tr>\n",
       "    <tr>\n",
       "      <th>2495</th>\n",
       "      <td>1997-12-29</td>\n",
       "      <td>Key West</td>\n",
       "      <td>-0.66</td>\n",
       "    </tr>\n",
       "  </tbody>\n",
       "</table>\n",
       "<p>15473 rows × 3 columns</p>\n",
       "</div>"
      ],
      "text/plain": [
       "        ymd_hms                    location    CMI\n",
       "2132 1997-01-06  PENSACOLA REGIONAL AIRPORT   0.80\n",
       "2133 1997-01-13  PENSACOLA REGIONAL AIRPORT   0.47\n",
       "2134 1997-01-20  PENSACOLA REGIONAL AIRPORT   0.68\n",
       "2135 1997-01-27  PENSACOLA REGIONAL AIRPORT   0.18\n",
       "2136 1997-02-03  PENSACOLA REGIONAL AIRPORT   0.00\n",
       "...         ...                         ...    ...\n",
       "2491 1996-11-25                    Key West   0.37\n",
       "2492 1996-12-02                    Key West   0.26\n",
       "2493 1996-12-09                    Key West   0.23\n",
       "2494 1996-12-16                    Key West   0.00\n",
       "2495 1997-12-29                    Key West  -0.66\n",
       "\n",
       "[15473 rows x 3 columns]"
      ]
     },
     "execution_count": 175,
     "metadata": {},
     "output_type": "execute_result"
    }
   ],
   "source": [
    "FL_CMI"
   ]
  },
  {
   "cell_type": "code",
   "execution_count": null,
   "id": "0f24d148",
   "metadata": {},
   "outputs": [],
   "source": []
  },
  {
   "cell_type": "code",
   "execution_count": null,
   "id": "90c5484a",
   "metadata": {},
   "outputs": [],
   "source": []
  },
  {
   "cell_type": "code",
   "execution_count": null,
   "id": "3e7d5efb",
   "metadata": {},
   "outputs": [],
   "source": []
  },
  {
   "cell_type": "code",
   "execution_count": null,
   "id": "bb15fc52",
   "metadata": {},
   "outputs": [],
   "source": []
  },
  {
   "cell_type": "code",
   "execution_count": null,
   "id": "92625eef",
   "metadata": {},
   "outputs": [],
   "source": []
  },
  {
   "cell_type": "code",
   "execution_count": null,
   "id": "9da70dca",
   "metadata": {},
   "outputs": [],
   "source": []
  },
  {
   "cell_type": "code",
   "execution_count": null,
   "id": "fcfb59cf",
   "metadata": {},
   "outputs": [],
   "source": []
  },
  {
   "cell_type": "code",
   "execution_count": null,
   "id": "19f51f8c",
   "metadata": {},
   "outputs": [],
   "source": []
  },
  {
   "cell_type": "code",
   "execution_count": null,
   "id": "0836d1ee",
   "metadata": {},
   "outputs": [],
   "source": []
  },
  {
   "cell_type": "code",
   "execution_count": null,
   "id": "22d2d138",
   "metadata": {},
   "outputs": [],
   "source": []
  }
 ],
 "metadata": {
  "kernelspec": {
   "display_name": "Python 3",
   "language": "python",
   "name": "python3"
  },
  "language_info": {
   "codemirror_mode": {
    "name": "ipython",
    "version": 3
   },
   "file_extension": ".py",
   "mimetype": "text/x-python",
   "name": "python",
   "nbconvert_exporter": "python",
   "pygments_lexer": "ipython3",
   "version": "3.8.8"
  }
 },
 "nbformat": 4,
 "nbformat_minor": 5
}
